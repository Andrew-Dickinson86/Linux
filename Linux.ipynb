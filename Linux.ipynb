{
 "cells": [
  {
   "cell_type": "markdown",
   "id": "412426e9-f581-429f-9048-78fd03b83d07",
   "metadata": {},
   "source": [
    "# <center><ins>Linux</center></ins>"
   ]
  },
  {
   "cell_type": "markdown",
   "id": "865ea413-9ef2-4812-a465-e5b18c345cc7",
   "metadata": {},
   "source": [
    "All **data** in Unix/Linux is organized into **files**.  \n",
    "All **files** are organized into **directories**.  \n",
    "**Directories** are organized in a **tree-like structure** called the **filesystem**.  \n",
    "\n",
    "The tree has a **single <u>root</u> node**, the slash character **`/`** , which all other directories are contained below it.  \n",
    "The **<u>home</u> directory** is where you will find yourself when you first login denoted **`~`**  "
   ]
  },
  {
   "cell_type": "markdown",
   "id": "a99b26f5-e3ce-41a8-9208-ac8892adfbd6",
   "metadata": {},
   "source": [
    "3 basic types of files:  \n",
    "* **Ordinary files** - contains data, text or program instructions.  \n",
    "* **Directories** - stores both ordinary files and special files (equivilant to windows folders).  \n",
    "* **Special files** - provide access to hardware (hard drives, CD-Roms, modems, ethernet adapters etc.). Some special files are similar to aliases or shortcuts and enable you to access a single file using different names.  \n",
    "\n",
    "Hidden files start with `.`  \n",
    "Note when listing hidden files, `.` represents current directory, `..` represents parent directory.  "
   ]
  },
  {
   "cell_type": "markdown",
   "id": "c8f04218-a79c-49ed-9117-a97c92800942",
   "metadata": {},
   "source": [
    "**Variables**  \n",
    "Set a variable with **`VAR=value`**  \n",
    "Call variable value with **`echo $VAR`**  \n",
    "Store the value of a command in a variable with **`VAR=$(<command>)`**  \n",
    "Call a variable with **`$VAR`** &emsp;&emsp; -- Note no spaces after $  \n",
    "For a child script to access a variable, it needs to be exported:  \n",
    "**`export var`** &emsp;&emsp; -- Note this can be combined with setting the value  \n",
    "Unset with **`unset var`**  \n",
    "Variable names are typically **UPPERCASE**  \n",
    "**`readonly <variable_name>`** Sets a variable to readonly. After a variable is marked read-only, its value cannot be\n",
    "changed\n",
    "\n",
    "**Substring from variable**  \n",
    "**`echo ${VAR:start:characters}`**  \n",
    "* 0th indexed\n",
    "* Only works on variables  "
   ]
  },
  {
   "cell_type": "markdown",
   "id": "4fd9816f-de9c-4056-a7cd-e93b02bac9db",
   "metadata": {},
   "source": [
    "#### Processes  \n",
    "\n",
    "* By default, every process that you start runs in the **foreground**  \n",
    "* While a process is running in the foreground and is time-consuming, no other commands can be run  \n",
    "* When backgroud process are run, other commands can be run and you do not need to wait until the other completes  \n",
    "* **Start** a **background** process by adding **`&`** to the **end of a command**  \n",
    "* When a background process is started, the PID will be displayed  \n",
    "* **Stop background process** with **`kill -9 <PID>`**  \n",
    "* When a process is killed, its parent process is updated via **SIGCHLD** so the parent can do some task or restart a new child process as required  \n",
    "* If parent is killed before child, child is **orphaned** and the parent of all processes, the **INIT process** becomes new PPID  \n",
    "* Daemon processes are system related background processes that have no controlling terminal. TTY field will show `?`  \n",
    "* Background and suspended processes are usually manipulated via job number (job ID). This number is different from the process ID and is used because it is shorter. A job can also consist of multiple processes    "
   ]
  },
  {
   "cell_type": "markdown",
   "id": "e60140a5-75a4-43b8-a281-188974c87e7f",
   "metadata": {},
   "source": [
    "---"
   ]
  },
  {
   "cell_type": "markdown",
   "id": "7ef086fd-4f49-4101-95ae-eb2bfb2efc63",
   "metadata": {
    "tags": []
   },
   "source": [
    "**Move around terminal**  \n",
    "\n",
    "|Command|Description|\n",
    "|:---:|:---|\n",
    "|Ctrl+ left/right_arrows|Move between words in terminal|\n",
    "|Ctrl+ A|Move to beginning of line<br>`home` key also works|\n",
    "|Ctrl+ E|Move to end of line<br>`end` key also works|\n",
    "|Alt+ backspace|Delete word to left|\n",
    "|Alt+ d|Delete word to right<br>Also `Ctrl+ del`|\n",
    "|Ctrl+ U|Delete from cursor to beginning of line|"
   ]
  },
  {
   "cell_type": "markdown",
   "id": "bdf11594-e18c-47a2-9664-1467d8fa751a",
   "metadata": {},
   "source": [
    "**Linux commands**  \n",
    "\n",
    "|Command|Description|Options|\n",
    "|:---:|:---|:---|\n",
    "|set|View variable assignments list (at top of output)<br>*set \\| grep VAR* &emsp; will show current state of VAR<br>*set \\| less* &emsp; displays variable assignments list starting at the top||\n",
    "|man *\\<command\\>*|Get help manual on command||\n",
    "|sudo *\\<command\\>*|Execute a command as the superuser or another user||\n",
    "|date *[options] [+format]*|Outputs current date<br>Note the **+** before formatting options|**Formatting**<br>**%A** Full day name|\n",
    "|echo *[options] \\<string\\>* &emsp;&emsp;&emsp;&emsp;&emsp;&emsp;&emsp;&emsp;|Returns input or variable value to terminal<br>use \\\\$ in front of a variable to output its value<br>Enclose strings in double quotes \" \"<br>Can add text to a file following \\<string\\> with  *>> \\<fileName\\>*|**-n** omit newline from the output<br>**-e** enable the function of backslash (/) character<br>**-E** disable the function of backslash (/) character<br>**–version** display the version information<br>**–help** display help messages related to the uses of this command|\n",
    "|echo \\\\$\\\\$|Prints current Process ID number (PID)||\n",
    "|[command\\|string]\\>[file_name]|Store output of command or string value in a file||\n",
    "|ls [option] |List files and directories stored in current directory|**-l** (lowercase L) provides more [information](#List-files)<br>**-a** list hidden files|\n",
    "|pwd|Print working directory (where you currently are) as **absolute path**||\n",
    "|ps|List running processes<br>Displays:<br>UID - User ID that process belongs to<br>PID - Process ID<br>PPID - Parent PID (PID of process that started it)<br>C - CPU utilization of process<br>STIME - Process start time<br>TTY - Terminal type associated with process<br>TIME - CPU time taken by the process<br>CMD - The command that started the process|**-f** full, show more information<br>**-a** Shows information about all users<br>**-x**Shows information about processes without terminals<br>**-u** Shows additional information<br>**-e** Displays extended information|\n",
    "|top|Shows information about physical and virtual memory, CPU usage, load averages, and your busy processes||\n",
    "|printenv|Prints all or the specified environment variables||\n",
    "|export *\\<variable\\>*|Exports a variable - allows a child script to have access to the variable (temporary environment variable)|**-p** use without \\<variable\\> to list all exported variables<br>**-f** to export a function|\n",
    "|cd *\\<path\\>*|Change directory<br><br>Use `cd ..` to go to parent directory, this can be chained `cd ../..`<br>Use `cd ~` to go to home directory or `cd /` to go to root<br>`cd ~username` will go to any other users home directory<br>`cd -` will go to your last directory<br>Absolute path names (in relation to root) start with `/`<br>Relative path names (without `/`) will be relative to current working directory||\n",
    "|touch *\\<filename\\>*|Create file||\n",
    "|cp *\\<source_filename\\> \\<destination_filename\\>*<br>cp *\\<source_filename\\> \\<directory_to_copy_to\\>*<br>cp *\\<source_filename1\\> \\<source_filename2\\>... \\<directory_to_copy_to\\>*|Copy a file(s)||\n",
    "|mv *\\<old_name\\> \\<new_name\\>*|Rename a file or directory||\n",
    "|rm [option] *\\<filename\\>*|Deletes a file. Multiple files can be removed at the same time.<br>Caution, as you will not be prompted|**-i** prompt before every removal<br>**-r** remove directories and their contents recursively<br>**-f** force, ignore nonexistent files and arguments, never prompt||\n",
    "|mkdir [option] *\\<directory_name\\>*...|Create directory<br>Can create multiple at the same time, list one after another|**-p** creates parent directory and child directory,<br>e.g. mkdir -p test/testing|\n",
    "|rmdir *\\<directory_name\\>*...|Delete directory<br>Will **NOT** work if directory is not empty<br>Can delete multiple at the same time, list one after another||\n",
    "|cat [option] *\\<filename\\>*|Show contents of file|**-b** show line numbers|\n",
    "|wc [option] *\\<filename1\\> \\<filename2\\>...*|Show count of *lines, words, characters* respectively in a file(s)|**-c** print the byte count<br>**-l** print the number of newline characters<br>|\n",
    "|chmod [option] *\\<filename\\>*|Change mode - can be used in 2 ways, symbolic mode and absolute mode<br>symbolic mode can be used to change file permissions|[information](#chmod-options)|\n",
    "|chown *\\<user\\>* *\\<filelist\\>*|Change owner<br>User can be either the name or the user id (uid) of a user on the system||\n",
    "|chgrp *\\<group\\> \\<filelist\\>*|Change group<br>Group can be the name or the group ID (GID) of a group on the system||\n",
    "|curl *\\<url\\> \\> \\<filename\\>*|Downloads the contents of a URL and saves to filename<br>View contents with cat, less or more commands<br>Install curl with:<br>sudo apt install curl||\n",
    "|script *\\<filename\\>*<br>stop with Ctrl+ d|Records actions and saves in filename<br>View with cat command||"
   ]
  },
  {
   "cell_type": "markdown",
   "id": "56a8fa16-6164-412a-8008-22e9d00246ab",
   "metadata": {},
   "source": [
    "#### **Special Variables**  \n",
    "* Use in script as described or call in terminal with echo  \n",
    "\n",
    "|Variable|Description|\n",
    "|:---:|:---|\n",
    "|\\$0|The filename of the current script|\n",
    "|\\$n|These variables correspond to the arguments with which a script was invoked. Here n is a positive decimal number corresponding to the position of an argument|\n",
    "|\\$#|The number of arguments supplied to a script|\n",
    "|\\$\\*|All the arguments are double quoted. If a script receives two arguments, \\\\$\\* is equivalent to \\\\$1 \\\\$2|\n",
    "|\\$\\@|All the arguments are individually double quoted. If a script receives two arguments, \\\\$\\@ is equivalent to \\\\$1 \\\\$2|\n",
    "|\\$?|The exit status of the last command executed<br>Usually 0 if exited successfully<br>1 if exited unsuccessfully|\n",
    "|\\$\\$|The process number of the current shell. For shell scripts, this is the process ID under which they are executing|\n",
    "|\\$!|The process number of the last background command|"
   ]
  },
  {
   "cell_type": "markdown",
   "id": "60153764-0b07-445c-8f63-1d4918ec588d",
   "metadata": {
    "tags": []
   },
   "source": [
    "#### List files"
   ]
  },
  {
   "cell_type": "markdown",
   "id": "4c067b53-a07d-41b3-a360-239be9f1a148",
   "metadata": {},
   "source": [
    "When files are listed with `ls` command and option `-l`, information is displayed as follows:  \n",
    "permissions, number of memory blocks, owner, group, file size in bytes, created or last modified, file/directory name  \n",
    "Permissions are in the order **read (r), write (w), execute (x)**  \n",
    "\n",
    "|First character<br>in permissions|Description|\n",
    "|:---:|:---|\n",
    "|-|Regular file, such as an ASCII text file, binary executable, or hard link|\n",
    "|b|Block special file. Block input/output device file such as a physical hard drive|\n",
    "|c|Character special file. Raw input/output device file such as a physical hard drive|\n",
    "|d|Directory file that contains a listing of other files and directories|\n",
    "|l (lowercase L)|Symbolic link file. Links on any regular file|\n",
    "|p|Named pipe. A mechanism for interprocess communications|\n",
    "|s|Socket used for interprocess communication|\n",
    "\n",
    "positions (2-4) in permissions = owner permissions  \n",
    "positions (5-7) in permissions = group permissions  \n",
    "positions (8-10) in permissions = other, (global) permissions  \n",
    "\n",
    "A user must have execute access to the bin directory in order to execute the ls or the cd command.  \n",
    "\n",
    "Metacharacters can be used with partial file names with list command e.g. list all files ending .doc `ls *.doc`  \n",
    "`*` matches 0 or more characters, `?` matches a single character.  "
   ]
  },
  {
   "cell_type": "markdown",
   "id": "92523648-3c10-4bf7-829c-deb9cc21441c",
   "metadata": {
    "tags": []
   },
   "source": [
    "#### chmod options"
   ]
  },
  {
   "cell_type": "markdown",
   "id": "9da6c7de-bde8-4302-95a9-3e7cf0e6abbe",
   "metadata": {},
   "source": [
    "**`chmod [option] <filename>`**  \n",
    "\n",
    "Option can start with `u` (user), `g` (group), `o` (global) or `a` (all)  \n",
    "This can be followed with:  \n",
    "`+` :Adds permissions stated  \n",
    "`-` :Removes permissions stated  \n",
    "`=` :Sets to permissions stated  \n",
    "Then list permissions (`rwx` etc,  use `s` to set SUID/SGID bits - see below)  \n",
    "e.g. &emsp; `chmod u+wx,g-x,o=rx test.txt`  \n",
    "\n",
    "Permissions for each (user,group,global) can be represented by a number:  \n",
    "e.g. &emsp; `chmod 763 test.txt` &emsp; - would have same permissions as above assuming u had r and g had rw beforehand  \n",
    "\n",
    "|Number|Octal Permission Representation|Ref|\n",
    "|:---:|:---|:---:|\n",
    "|0|No permission|`---`|\n",
    "|1|Execute permission|`--x`|\n",
    "|2|Write permission|`-w-`|\n",
    "|3|Execute and write permission:<br>1(execute) + 2 (write) = 3|`-wx`|\n",
    "|4|Read permission|`r--`|\n",
    "|5|Read and execute permission:<br>4 (read) + 1 (execute) = 5|`r-x`|\n",
    "|6|Read and write permission:<br>4 (read) + 2 (write) = 6|`rw-`|\n",
    "|7|All permissions:<br>4 (read) + 2 (write) + 1 (execute) = 7|`rwx`|\n",
    "\n",
    "Additional permissions are given to programs via the **Set User ID (SUID)** and **Set Group ID (SGID) bits**  \n",
    "This will be shown as a **lowercase `s`** in place of the execute permission when set. (uppercase indicates bit NOT set)  \n",
    "When you execute a program that has the **SUID/SGID bit enabled**, you **inherit the permissions** of that **program's owner/group**. Programs that do not have the SUID/SGID bit set are run with the permissions of the user/group who started the program  \n",
    "\n",
    "Set SUID and SGID bits for any directory:  \n",
    "**`chmod UG+s <dirname>`**  "
   ]
  },
  {
   "cell_type": "markdown",
   "id": "bab3723d-447e-4ff3-82b7-3e3243739d25",
   "metadata": {},
   "source": [
    "#### Standard I/O Streams"
   ]
  },
  {
   "cell_type": "markdown",
   "id": "192a9967-382c-438a-90ec-7e06b488adb8",
   "metadata": {},
   "source": [
    "Every Unix program has three streams (files) opened for it when it starts up:  \n",
    "\n",
    "**stdin**  \n",
    "* Standard input stream.  \n",
    "* The associated file descriptor is 0.  \n",
    "* The Unix program will read the default input from STDIN.  \n",
    "\n",
    "**stdout**  \n",
    "* Standard output stream.  \n",
    "* The associated file descriptor is 1.  \n",
    "* The Unix program will write the default output at STDOUT.  \n",
    "\n",
    "**stderr**  \n",
    "* Standard error stream.  \n",
    "* The associated file descriptor is 2.  \n",
    "* The Unix program will write all the error messages at STDERR.  "
   ]
  },
  {
   "cell_type": "markdown",
   "id": "95b8ddd5-0149-42f6-bb1a-f1618fe495e4",
   "metadata": {},
   "source": [
    "A command normally reads its input from the standard input, which happens to be your terminal by default. Similarly, a command normally writes its output to standard output, which is again your terminal by default.  \n",
    "\n",
    "**Output redirection**  \n",
    "\n",
    "**`command > file_name`**  \n",
    "* The output from a command normally intended for standard output can be easily diverted to a file instead.  \n",
    "* Use for any command that normally writes its output to a standard output.  \n",
    "* **Overwrites** file contents if file already exits  \n",
    "* Use **`>> file_name`** to append to an existing file  "
   ]
  },
  {
   "cell_type": "markdown",
   "id": "4ecac31b-c0f9-4594-81ef-519218a0abda",
   "metadata": {},
   "source": [
    "**Input redirection**  \n",
    "\n",
    "**`command < file_name`**  \n",
    "* Use for commands which normally take their input from the standard input.  "
   ]
  },
  {
   "cell_type": "markdown",
   "id": "e14041c0-de9c-4e59-a696-6bc878df9595",
   "metadata": {},
   "source": [
    "**here document**  \n",
    "\n",
    "**`command << delimeter`**  \n",
    "**`file_name`**  \n",
    "**`delimeter`**  \n",
    "* Used to redirect input into an interactive shell script or program.  \n",
    "* Delimiter must be a **single word** that does not contain spaces or tabs  \n",
    "* Reads input from the file until it finds the delimeter  "
   ]
  },
  {
   "cell_type": "markdown",
   "id": "01126e8f-6ddd-4c68-80a0-f774085583f2",
   "metadata": {},
   "source": [
    "**Discard output and/or error**  \n",
    "\n",
    "**`command > /dev/null`**  \n",
    "* Discards STDOUT via a special file (/dev/null)  \n",
    "* Discard both STDOUT and STDERR with **`command > /dev/null 2>&1`**  "
   ]
  },
  {
   "cell_type": "markdown",
   "id": "a48b16d5-cd6b-47ab-912d-364dfba8b075",
   "metadata": {},
   "source": [
    "**Display message on STDERR**  \n",
    "\n",
    "**`echo message 1>&2`**  \n",
    "* Redirects message on STDERR to STDOUT  "
   ]
  },
  {
   "cell_type": "markdown",
   "id": "6f0ce543-f8bc-46c5-9f5b-24cdbae767ba",
   "metadata": {},
   "source": [
    "**Other redirection commands**  \n",
    "\n",
    "|Command|Description|\n",
    "|:---:|:---|\n",
    "|pgm > file|Output of pgm is redirected to file|\n",
    "|pgm < file|Program pgm reads its input from file|\n",
    "|pgm >> file|Output of pgm is appended to file|\n",
    "|n > file|Output from stream with descriptor n redirected to file|\n",
    "|n >> file|Output from stream with descriptor n appended to file|\n",
    "|n >& m|Merges output from stream n with stream m|\n",
    "|n <& m|Merges input from stream n with stream m|\n",
    "|<< tag|Standard input comes from here through next tag at the start of line|\n",
    "|\\||Takes output from one program, or process, and sends it to another|"
   ]
  },
  {
   "cell_type": "markdown",
   "id": "cdd1142c-910c-4dda-a925-781d11d65367",
   "metadata": {},
   "source": [
    "#### Pipes  \n",
    "\n",
    "**`command1 | command2 | command3 | ... | commandN`**  \n",
    "* Form of redirection, referred to as a filter    \n",
    "* Allows STDOUT of a **command OR program** to be connected to the STDIN of another  \n",
    "* Data flows from **left to right**  "
   ]
  },
  {
   "cell_type": "markdown",
   "id": "42308612-78a2-4cdd-b7d0-7e22e8b172e6",
   "metadata": {},
   "source": [
    "#### Grep  \n",
    "\n",
    "**`grep <pattern> <file_name>`**  \n",
    "* Filters line by line  \n",
    "* Grep = Globally search for Regular Expressions and Print all lines containing it  \n",
    "* **`<pattern>`** can also be a string  \n",
    "* If search string contains spaces, it **must** be in **double quotes**  \n",
    "* Use **`^`** at the beginning of the string if string is to be at the start of a line  \n",
    "* Use **`$`** at the end of the string if string is to be at the end of a line  \n",
    "* use **`egrep`** or option **`-E`** to use **extended regular expressions**, otherwise grep only supports basic regular expressions  \n",
    "\n",
    "|Options|Description|\n",
    "|:---:|:---|\n",
    "|-v|Prints all lines that do **not** match pattern|\n",
    "|-n|Prints the matched line and its line number|\n",
    "|-l|(letter \"L\")<br>Prints only the **names of files** containing matching lines|\n",
    "|-c|Prints only the count of matching lines|\n",
    "|-i|Matches either upper or lowercase|"
   ]
  },
  {
   "cell_type": "markdown",
   "id": "59a52341-74f2-43e8-9dab-fa637ae435aa",
   "metadata": {},
   "source": [
    "#### Regular expressions  \n",
    "\n",
    "(EH|FK)[0-9][0-9] Matches “EH” or “FK” followed by any two digits.  \n",
    "EH10 and FK12 would match but EH2 would not.  \n",
    "\n",
    "|Pattern|Description|\n",
    "|:---:|:---|\n",
    "|. (dot)|Matches any single character|\n",
    "|[abc]|Matches any single character from the set \"a ,b or c\"|\n",
    "|[^abc]|Matches any single character except \"a ,b or c\"|\n",
    "|[A-Z]|Matches any single uppercase alphabetic character|\n",
    "|[0-9]|Matches any single numeric digit|\n",
    "|Mon\\|Tue|Matches the strings “Mon” OR “Tue” (Extended)|\n",
    "|^|Matches the start point of a line (when used inside [ ] negates)|\n",
    "|\\\\$|Matches the end point of a line|\n",
    "|( )|Used to group (Extended)|\n",
    "|\\n|Matches the literal character \"n\" where \"n\" would normally have special regex meaning<br>Note the backslash is used as the escape character|\n",
    "\n",
    "**Expression Quantifiers**  \n",
    "\n",
    "|Pattern|Description|\n",
    "|:---:|:---|\n",
    "|\\*|Matches any number (including none) of the previous item<br>Examples:<br>.\\* Matches any number of any character (i.e. everything)<br>[0-9]\\* Matches any string of digits (e.g. phone numbers)|\n",
    "|+|Matches one or more of the previous character (Extended)|\n",
    "|?|Matches none or one of the previous character (Extended)|\n",
    "|{n}|Matches exactly n of the previous item. (Extended)<br>Example:<br>[A-Z]{3} Matches any uppercase string of 3 letters|"
   ]
  },
  {
   "cell_type": "markdown",
   "id": "c2f8f94b-1437-42ce-b510-0b623f3400c3",
   "metadata": {},
   "source": [
    "#### Sort command  \n",
    "\n",
    "**`command | sort [options]`**  \n",
    "* Arranges lines of text alphabetically (default) or numerically.  \n",
    "\n",
    "|Option|Description|\n",
    "|:---:|:---|\n",
    "|-n|Sorts numerically|\n",
    "|-r|Reverses the order of sort|\n",
    "|-f|Sorts upper and lowercase together|\n",
    "|+x|Ignores first x fields when sorting|\n",
    "|-k|Sorts using columns where each column is seperated by a whitespace or tabs<br>Follow with **-t** then specify an optional delimeter e.g. -t:<br>Note 1st column is index 1<br>-k3 would sort using the 3rd column|"
   ]
  },
  {
   "cell_type": "markdown",
   "id": "03c56184-ccbb-4a10-a3ef-81172471bea6",
   "metadata": {},
   "source": [
    "#### Cut command  \n",
    "\n",
    "**`cut [options] <file_name>`**  \n",
    "* Isolates part of a file vertically by choosing specific fields (columns)  \n",
    "* Default delimeter is **tab**  \n",
    "\n",
    "|Option|Description|\n",
    "|:---:|:---|\n",
    "|-cn|Replace n with number<br>Output the nth character on each line<br>add **-m** to add a range of characters (with m being a number)|\n",
    "|-fn|Replace n with number<br>Output the nth field|\n",
    "|-d\"\\<delimeter\\>\"|Change delimeter (default is tab)|"
   ]
  },
  {
   "cell_type": "markdown",
   "id": "55571442-e956-457e-b764-6b96ed5896a8",
   "metadata": {},
   "source": [
    "#### Uniq command  \n",
    "\n",
    "**`uniq`**  \n",
    "* Combine with pipes to use output of one command as input  \n",
    "* Removes <u>**consecutive**</u> **identical lines from output**  \n",
    "* To remove ALL duplicates, first sort the output  "
   ]
  },
  {
   "cell_type": "markdown",
   "id": "ec258c96-dabc-451d-ace5-34534a7eb02f",
   "metadata": {},
   "source": [
    "#### Find command  \n",
    "\n",
    "**`find <location_to_search> [option]`**  \n",
    "* Find any file or directory depending on its attributes  \n",
    "* Use **`.`** as location to search current directory  \n",
    "\n",
    "Found files can also **execute a command on ALL found files** add at end of find statement:  \n",
    "**`-exec <command> {} \\;`**  \n",
    "* Found filenames will be inserted into **`{}`**  \n",
    "* exec command must be terminated with **`;`** which when used in this case, must also be escaped  \n",
    "\n",
    "|Option|Description|\n",
    "|:---:|:---|\n",
    "|-name \\<file_name\\>|Matches filenames with directories removed, ie. no slashes<br>To search end of filename, use wildcard eg. -name \"\\\\\\*.html\"<br>Note the \\* requires escaping|\n",
    "|-type \\<type\\>|Find files of type:<br>b &emsp; block (buffered) special<br>c &emsp; character (unbuffered) special<br>d &emsp; directory<br>p &emsp; named pipe (FIFO)<br>f &emsp; regular file<br>l &emsp; symbolic link<br>s &emsp; socket<br>D &emsp; door (Solaris)|\n",
    "|-mtime n |File was modified n\\*24 hours ago<br>Use - in front of n for less than<br>Use + in front of n for more than|\n",
    "|-size n|File of size n<br>Use - in front of n for smaller than<br>Use + in front of n for larger than<br>c &emsp; bytes<br>k &emsp; kibibytes<br>M &emsp; mebibytes<br>G &emsp; gibibytes|\n",
    "|-user \\<user\\>|Find files owned by \\<user\\>|\n",
    "|-perm \\<perm\\>|Find files with permission \\<perm\\><br>e.g. -perm 755 &emsp;finds files with permissions exactly 755|"
   ]
  },
  {
   "cell_type": "markdown",
   "id": "dbc8e7f8-5d5e-4a3a-8bef-2d3b4c067cf1",
   "metadata": {},
   "source": [
    "#### Diff command  \n",
    "\n",
    "**`diff <filename1> <filename2>`**  \n",
    "* Reads files line by line, and returns any differences between the files  \n",
    "* Useful for spotting changes on config files  \n",
    "* Use **`-q`** to not show differences, but show if the files differ or not  "
   ]
  },
  {
   "cell_type": "markdown",
   "id": "1546ec9e-8276-49ff-b297-2b194f913ffd",
   "metadata": {},
   "source": [
    "#### cmp command  \n",
    "\n",
    "**`cmp <filename1> <filename2>`**  \n",
    "* Compares two files byte by byte and reports the position of the **first difference**  \n",
    "* **`-s`** stops outputting to STDOUT, however its \"exit status\" will still be returned (0-True, files same, 1-False, files differ)  "
   ]
  },
  {
   "cell_type": "markdown",
   "id": "c2e8bcc2-3af7-4d57-b66d-ab9cb6673a22",
   "metadata": {},
   "source": [
    "#### md5 command  \n",
    "\n",
    "**`md5 <filename>`**  \n",
    "* Reads any file and computes a 128bit “message digest” based on the file content  \n",
    "* 16byte (32 hex character) digest can be considered as a unique signature for the file  \n",
    "* If the file content has been altered in any way, a completely different digest value would be produced  "
   ]
  },
  {
   "cell_type": "markdown",
   "id": "d1789d6f-36ce-444a-8070-5cddd3a638ab",
   "metadata": {},
   "source": [
    "---"
   ]
  },
  {
   "cell_type": "markdown",
   "id": "afb040c0-43a5-4236-81c4-20fc6dbf5668",
   "metadata": {},
   "source": [
    "### <center>Vi</center>"
   ]
  },
  {
   "cell_type": "markdown",
   "id": "419b2bd0-fc91-4b60-991e-4b16868677be",
   "metadata": {},
   "source": [
    "Alternate to Vi is Nano or **Gedit** (probably the best of the 3)  "
   ]
  },
  {
   "cell_type": "markdown",
   "id": "5736f932-181e-4df3-821c-4c835d45bf7c",
   "metadata": {},
   "source": [
    "vi always **starts in command mode**.\n",
    "\n",
    "**command mode**  \n",
    "* Perform admin tasks - save, execute commands, move cursor, cutting (yanking) and pasting, find and replace.\n",
    "\n",
    "**insert mode**  \n",
    "* Enables you to insert text into the file.  "
   ]
  },
  {
   "cell_type": "markdown",
   "id": "894c166b-5bbe-4e0d-be3f-541066819b1d",
   "metadata": {},
   "source": [
    "**vi** -  A screen-oriented text editor.  \n",
    "\n",
    "|Command|Description|Options|\n",
    "|:---:|:---|:---|\n",
    "|vi *\\<filename\\>*|Creates a new file in vi if it already does not exist, otherwise opens.<br>Without adding extension, vi creates a plain text file|-R opens in read-only.|\n",
    "|view *\\<filename\\>*|Opens an existing file in the read-only mode.||\n",
    "|<td colspan=\"3\">**Above are commands outside of vi (terminal), below are in vi**</td>||\n",
    "||**File commands, modes, quit, write**||\n",
    "|i|Enter input mode||\n",
    "|Esc Esc|Go back to command mode||\n",
    "|:w *\\<filename\\>*|Writes (saves) file, can be combined with quit<br>Filename is optional if already named||\n",
    "|:f *\\<filename\\>*|Rename file (note does not save change at this point)<br>Note this will not overwrite original filename file||\n",
    "|:q |Quites, can be combined with write| ! does not show any warnings before quitting|\n",
    "|ZZ |Saves and quits, Note case.||\n",
    "|CTRL+g|Show current filename and status||\n",
    "|:e *\\<filename\\>*|Opens another file with filename||\n",
    "|:e #|Toggles between two open files||\n",
    "|:n|Go to next file in series (when multiple files open)||\n",
    "|:p|Go to previous file in series (when multiple files open)||\n",
    "|:r *\\<filename\\>*|Reads file and inserts it after current line||\n",
    "|:nr *\\<filename\\>*|Reads file and inserts it after line n||\n",
    "|:cd *\\<dirname\\>*|Change working directory||\n",
    "|:! *\\<command\\>*|Run a command outside of vi (such as ls)||\n",
    "||**Moving cursor within a file (command mode)**||\n",
    "||**Most of below can be prefixed with a number to scale command**||\n",
    "|k|Moves cursor up one line||\n",
    "|j|Moves cursor down one line||\n",
    "|h|Moves cursor left one character positon||\n",
    "|l (lowercase L)|Moves cursor right one character positon||\n",
    "|0 or \\||Moves cursor to beginning of line||\n",
    "|\\$|Moves cursor to end of line||\n",
    "|w|Positions cursor at beginning of next word||\n",
    "|b|Positions cursor at beginning of previous word||\n",
    "|(|Positions cursor at beginning of current sentence||\n",
    "|)|Positions cursor at beginning of next sentence||\n",
    "|E|Moves to end of the blank delimited word||\n",
    "|{|Moves a paragraph back||\n",
    "|}|Moves a paragraph forward||\n",
    "|[[|Moves a section back||\n",
    "|]]|Moves a section forward||\n",
    "|n\\||Moves to the column n in the current line||\n",
    "|1G|Moves to 1st line of the file||\n",
    "|G|Moves to last line of the file||\n",
    "|nG|Moves to n line of the file||\n",
    "|:n|Moves to n line of the file||\n",
    "|fc|Moves forward to next \"c\", replace c with letter desired||\n",
    "|Fc|Moves back to previous \"c\", replace c with letter desired||\n",
    "|H|Moves to top of screen||\n",
    "|nH|Moves to nth line from top of screen||\n",
    "|M|Moves to middle of screen||\n",
    "|L|Moves to bottom of screen||\n",
    "|nL|Moves to nth line from bottom of screen||\n",
    "|:n|Move to line number \"n\"||\n",
    "|CTRL+d|Moves down 1/2 a screen||\n",
    "|CTRL+u|Moves up 1/2 a screen||\n",
    "|CTRL+f|Moves down one full screen||\n",
    "|CTRL+b|Moves up one full screen||\n",
    "|CTRL+e|Moves screen up one line||\n",
    "|CTRL+y|Moves screen down one line||\n",
    "|CTRL+i|Redraws screen||\n",
    "||**Entering input mode with operation (from command mode)**||\n",
    "|i|Inserts text before cursor postion||\n",
    "|a|Inserts text after cursor position||\n",
    "|I|Go to beginning of line||\n",
    "|A|Go to end of line||\n",
    "|o|Create line below cursor location||\n",
    "|O|Create line above cursor location||\n",
    "|cc|Removes contents of line||\n",
    "|cw|Changes word from cursor positon, when exiting back to command mode,<br>the rest of the word not overwritten will be deleted||\n",
    "|r|Change character under cursor. Will **return to command mode** after change||\n",
    "|s|Change character under cursor. Will stay in input mode after change||\n",
    "|R|Overwrite characters, will continue to overwrite next character until exit to command mode||\n",
    "|S|Delete line cursor is on, stays in input mode||\n",
    "||**Deleting characters (command mode)**||\n",
    "|x|Delete character under cursor||\n",
    "|X|Delete character before cursor||\n",
    "|dw|Delete from character under cursor (inclusive) to start of next word||\n",
    "|d^|Delete from character under cursor (exclusive) to beginning of line||\n",
    "|d$|Delete from character under cursor (inclusive) to end of line||\n",
    "|D|Delete from character under cursor (inclusive) to end of line||\n",
    "|dd|Delete line cursor is on||\n",
    "||**Copy and paste commands (command mode)**||\n",
    "|yy|Copies current line||\n",
    "|yw|Copies from cursor position (inclusive) to end of word (including space at end)||\n",
    "|p|Pastes copied text after cursor position||\n",
    "|P|Pastes copied text before cursor position||\n",
    "||**Further editing commands**||\n",
    "|J|Joins line with next one||\n",
    "|>>|Tabs entire line to the right||\n",
    "|<<|Tabs entire line to the left||\n",
    "|~|Switch case of character below cursor||\n",
    "|u|Undo last command, when pressed again, it'll redo||"
   ]
  },
  {
   "cell_type": "markdown",
   "id": "cb24ab78-3e4b-436a-aa50-2ad31de24bf8",
   "metadata": {},
   "source": [
    "**Set commands**  \n",
    "\n",
    "* Turn off a command with **:set no\\<command\\>**  \n",
    "\n",
    "|Command<br>Prefix with **:set**|Description|\n",
    "|:---:|:---|\n",
    "|ic|Ignores case when searching|\n",
    "|ai|Autoindent|\n",
    "|nu|Display line numbers|\n",
    "|sw = n|Set softwidth tabstop (tab width) to n|\n",
    "|ws|Wrapscan, when set if word is not found at the bottom of the file, will continue search at beginning|\n",
    "|wm = n|Wrap margin, if this option has a value greater than zero, the editor will automatically \"word wrap\" to n characters|\n",
    "|ro|Change file type to \"read only\"|\n",
    "|term|Prints terminal type|\n",
    "|bf|Discards control characters from input|"
   ]
  },
  {
   "cell_type": "markdown",
   "id": "7830808d-83ff-414f-9a60-86e422ba6477",
   "metadata": {},
   "source": [
    "#### **Search commands**  \n",
    "\n",
    "* **`/`** searches forwards in the file  \n",
    "* **`?`** searches backwards in the file  \n",
    "\n",
    "|Command<br>Preceed with direction|Description|\n",
    "|:---:|:---|\n",
    "|^|Searches beginning of each line|\n",
    "|.|Match a single character|\n",
    "|\\*|Match zero or more of the previous character|\n",
    "|\\$|Searches end of each line (use \\$ at end of search expression)|\n",
    "|\\[|Starts a set of matching or non-matching expressions|\n",
    "|<|Put in an expression escaped with the backslash to find the ending or the beginning of a word|\n",
    "|>|Helps see the '<' character description above|\n",
    "\n",
    "Search and replace:  \n",
    "**`:s/search/replace/g`**  \n",
    "* **`g`** stands for globally. The result of this command is that all occurrences on the cursor's line are changed rather than just first  \n",
    "* **`i`** flag can be used to ignore case  \n",
    "* **`c`** flag can be used to confirm for each match what to do. Generates following options:  \n",
    "    * `y` yes  \n",
    "    * `n` skip this match  \n",
    "    * `a` substitute this and all remaining matches  \n",
    "    * `q` quit the command  \n",
    "    * `l` substitute this match and quit (last)  \n",
    "    * `^E` scroll up the screen (Ctrl+E)  \n",
    "    * `^Y` scroll down the screen (Ctrl+Y)  "
   ]
  },
  {
   "cell_type": "markdown",
   "id": "459f24f8-1efc-4745-8663-6b22130f9081",
   "metadata": {},
   "source": [
    "---"
   ]
  },
  {
   "cell_type": "markdown",
   "id": "d9ce2f9a-b573-4a56-a26b-825126a549ed",
   "metadata": {},
   "source": [
    "#### <center>Dockers and Containers</center>"
   ]
  },
  {
   "cell_type": "markdown",
   "id": "7bb09ab7-a662-4db3-8db9-c2d36dbc8af4",
   "metadata": {},
   "source": [
    "<center><img src = https://www.docker.com/wp-content/uploads/2021/11/docker-containerized-appliction-blue-border_2.png width = \"400\" height = \"320\" ></center>"
   ]
  },
  {
   "cell_type": "markdown",
   "id": "6b2cc94d-798d-4012-8e2d-bc164f6cce2b",
   "metadata": {},
   "source": [
    "**Docker Engine**  \n",
    "* Docker is the client-server type of application which means we have clients who relay to the server. So the Docker daemon called: dockerd is the Docker engine which represents the server.\n",
    "* The docker daemon and the clients can be run on the same or remote host, and they communicate through command line client binary, as well as a full RESTful API to interact with the daemon: dockerd.  \n",
    "\n",
    "**Docker Images**  \n",
    "* Docker images are the \"source code\" for our containers; we use them to build containers. They can have software pre-installed which speeds up deployment. They are portable, and we can use existing images or build our own.  \n",
    "* A Docker container image is a lightweight, standalone, executable package of software that includes everything needed to run an application: code, runtime, system tools, system libraries and settings. \n",
    "\n",
    "**Registries**\n",
    "* Docker stores the images we build in registries.  \n",
    "* There are public and private registries.  \n",
    "* Docker company has public registry called Docker hub, where you can also store images privately. Docker hub has millions of images.  \n",
    "\n",
    "**Containers**  \n",
    "* Containers are the organizational units of Docker. When we build an image and start running it; we are running in a container. The container analogy is used because of the portability of the software we have running in our container. We can move, modify, manage, create or destroy it.  \n",
    "* In simple terms, an image is a template, and a container is a copy of that template.  \n",
    "* You can have multiple containers (copies) of the same image.\n",
    "* A container is a standard unit of software that packages up code and all its dependencies so the application runs quickly and reliably from one computing environment to another.  \n",
    "* Container images become containers at runtime and in the case of Docker containers - images become containers when they run on Docker Engine.  \n",
    "* Containers isolate software from its environment and ensure that it works uniformly despite differences for instance between development and staging.  \n",
    "* Containers and virtual machines have similar resource isolation and allocation benefits, but function differently because containers virtualize the operating system instead of hardware.  \n",
    "* Unlike the VMs which can communicate with the hardware of the host (ex: Ethernet adapter to create more virtual adapters) Docker containers run in an isolated environment on top of the host's OS.  \n",
    "Docker containers that run on Docker Engine:  \n",
    "    * Standard: Docker created the industry standard for containers, so they could be portable anywhere  \n",
    "    * Lightweight: Containers share the machine’s OS system kernel and therefore do not require an OS per application, driving higher server efficiencies and reducing server and licensing costs  \n",
    "    * Secure: Applications are safer in containers and Docker provides the strongest default isolation capabilities in the industry  \n",
    "\n"
   ]
  },
  {
   "cell_type": "markdown",
   "id": "67460125-79e6-48b5-a220-3e7bf4ce2b63",
   "metadata": {},
   "source": [
    "Installing Docker on Linux  \n",
    "\n",
    "To install docker, we need to use the Docker team's DEB packages. For that, first, we need to install some prerequisite packages.  \n",
    "\n",
    "Step 1) Adding prerequisite Ubuntu packages  \n",
    "**`$ sudo apt-get install \\`**  \n",
    "**`apt-transport-https \\`**  \n",
    "**`ca-certificates curl \\`**  \n",
    "**`software-properties-common`**  \n",
    "Step 2) Add the Docker GPG key  \n",
    "**`$ curl -fsSL https://download.docker.com/linux/ubuntu/gpg | sudo apt-key add -`**  \n",
    "Step 3) Update APT sources  \n",
    "**`$ sudo apt-get update`**  \n",
    "Step 4) Installing the Docker packages on Ubuntu  \n",
    "**`$ sudo apt install docker.io`**  \n",
    "The above-given command installs Docker and other additional required packages.  \n",
    "Before Docker 1.8.0, the package name was lxc-docker, and between Docker 1.8 and 1.13, the package name was docker-engine.  "
   ]
  },
  {
   "cell_type": "markdown",
   "id": "2f904e7e-208a-4ca0-9f02-d51f168e02d6",
   "metadata": {},
   "source": [
    "#### Basic commands"
   ]
  },
  {
   "cell_type": "markdown",
   "id": "691d8b63-cb6e-4552-8bec-e5e273b5ab0d",
   "metadata": {},
   "source": [
    "|Command|Description|Options|\n",
    "|:---:|:---|:---:|\n",
    "|docker info<br>&emsp;&emsp;&emsp;&emsp;&emsp;&emsp;&emsp;&emsp;&emsp;&emsp;&emsp;&emsp;&emsp;&emsp;&emsp;&emsp;&emsp;&emsp;&emsp;&emsp;&emsp;&emsp;&emsp;&emsp;&emsp;&emsp;&emsp;&emsp;&emsp;&emsp;|Information about docker containers<br>How many are running, paused or stopped and how many images we have downloaded||\n",
    "|docker pull *\\<image name\\>*|Download an image<br>System will attempt to pull image from dockers public registry||\n",
    "|docker run *[option] \\<image_name\\>* /bin/sh|Run image as a container<br>Exit with keyword exit<br>Image will be pulled from Docker registry if not saved locally|**-i** Keeps STDIN open from the container, even when you are not attached to it. This persistent standard input is one half of what you require for an interactive shell<br>**-t** Instructs Docker to assign a pseudo-tty to the container. This offers us an interactive shell in the new container<br>**--name \\<container_name\\>** Allows the container to be named<br>**-d** Detached mode: run the dontainer in the background and print the new container ID. You can reattach to a detached container with *docker attach*|\n",
    "|docker start \\<container_name\\>|Start container<br>Run container we previously created, without an interactive shell||\n",
    "|docker stop \\<container_name\\>|Stop container||\n",
    "| docker container rm \\<container_name\\>|Stop and remove container||\n",
    "|docker ps|List of all running containers|**-a** shows Container ID's, which image was used when container was created, running status, exposed ports and randomly generated name for the container for easier management|\n",
    "|docker stats|Container information<br>Resources containers are using||\n",
    "|docker images|List of images downloaded locally and info about them||\n",
    "|docker run --name docker_name -it -d docker_image|start a docker without entering its terminal||\n",
    "|docker exec \\<container_name\\> \\<command\\> \\<containerFilePath\\>|Pass a command to a docker container||"
   ]
  },
  {
   "cell_type": "markdown",
   "id": "3b0a92d4-67bf-48be-89a7-51e475ab4ceb",
   "metadata": {},
   "source": [
    "#### Copying files to and from Docker Containers  "
   ]
  },
  {
   "cell_type": "markdown",
   "id": "0ae754cc-2695-4377-a465-df233fe1e158",
   "metadata": {},
   "source": [
    "* This practice should not be used to create a Docker container for production. The official method is to use a Dockerfile to create a custom Docker image for your project.  \n",
    "* Sometimes however, you need a quick way to copy some stuff into a running container to test it out.  \n",
    "\n",
    "**`docker cp [OPTIONS] CONTAINER:SRC_PATH DEST_PATH`**  - Copies files from container to Dest_path outside of container  \n",
    "\n",
    "**`docker cp [OPTIONS] SRC_PATH CONTAINER:DEST_PATH`**  - Copies files from outside of container to Dest_path inside container  "
   ]
  },
  {
   "cell_type": "markdown",
   "id": "b466c2e3-5c49-495f-98b4-a4aa31e7d9ad",
   "metadata": {},
   "source": [
    "#### Dockerfiles  "
   ]
  },
  {
   "cell_type": "markdown",
   "id": "e09d829c-7c0a-44d4-bba1-c327353cbfe5",
   "metadata": {},
   "source": [
    "RUN apk update\n",
    "RUN apk add vim\n",
    "RUN apk add curl* A text file that defines a Docker image. You’ll use a Dockerfile to create your own custom Docker image  \n",
    "* Create an empty directory **`mkdir Dockerfile`**  \n",
    "* Create an empty dockerfile in the directory **`touch Dockerfile`**  \n",
    "* Open file in a text editor  \n",
    "* Every Dockerfile must start with the FROM instruction to define the base image. This provides a starting point to build the image **`FROM <base_image>`**  \n",
    "* Can start Docker images from any valid image that you pull from public registries e.g. **`FROM alpine:3.4`**  \n",
    "* Add the lines to install packages  \n",
    "    * e.g. **`RUN apk update`**\n",
    "    * **`RUN apk add vim`**  \n",
    "    * **`RUN apk add curl`**  \n",
    "* Build your image  \n",
    "    **` docker build [OPTIONS] PATH`**   \n",
    "    * [Option] **-t** is an option to name the image  \n",
    "    * **`.`** can be used in place of **`PATH`** to tell docker build to look for the file in the current directory  "
   ]
  },
  {
   "cell_type": "code",
   "execution_count": null,
   "id": "5c71727f-1bd5-4d9e-866c-044a798aa378",
   "metadata": {},
   "outputs": [],
   "source": []
  }
 ],
 "metadata": {
  "kernelspec": {
   "display_name": "Python 3 (ipykernel)",
   "language": "python",
   "name": "python3"
  },
  "language_info": {
   "codemirror_mode": {
    "name": "ipython",
    "version": 3
   },
   "file_extension": ".py",
   "mimetype": "text/x-python",
   "name": "python",
   "nbconvert_exporter": "python",
   "pygments_lexer": "ipython3",
   "version": "3.9.7"
  }
 },
 "nbformat": 4,
 "nbformat_minor": 5
}
