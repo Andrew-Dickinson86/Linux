{
 "cells": [
  {
   "cell_type": "markdown",
   "id": "e97a71a2-3f8a-4ed2-a071-c0226a1fa655",
   "metadata": {},
   "source": [
    "# <center><ins>Bash,<br>shell script for Linux</center></ins>"
   ]
  },
  {
   "cell_type": "markdown",
   "id": "bf02b07f-72f6-44d1-8a7c-62cb21b8ad8d",
   "metadata": {},
   "source": [
    "[Bash scripting cheatsheet](https://devhints.io/bash)"
   ]
  },
  {
   "cell_type": "markdown",
   "id": "abf3bb73-ecf4-4484-95a5-d4411239e8d8",
   "metadata": {},
   "source": [
    "Bash shell script files have extension **`.sh`**  "
   ]
  },
  {
   "cell_type": "markdown",
   "id": "d88dbc1f-7134-4a07-b076-746f939d5968",
   "metadata": {},
   "source": [
    "When you create a shell script, the permissions will require modifying to execute:  \n",
    "**`chmod U+x <filename>`**  "
   ]
  },
  {
   "cell_type": "markdown",
   "id": "08da230d-c0af-4f13-9ba7-647b11b9e460",
   "metadata": {},
   "source": [
    "Run a shell script with **`./filename`** when you are in the same directory. Filename can be replaced with the path when not in the same directory  "
   ]
  },
  {
   "cell_type": "markdown",
   "id": "61ed59da-6051-4651-b7f7-7c120a46cb12",
   "metadata": {},
   "source": [
    "A shell is a command-line interpreter.  \n",
    "Typical operations performed by shell scripts include:  \n",
    "* file manipulation  \n",
    "* program execution  \n",
    "* printing text  "
   ]
  },
  {
   "cell_type": "markdown",
   "id": "7b992fc2-e4d8-4de2-a5c3-b245b6c15fc6",
   "metadata": {},
   "source": [
    "Scripts start with a sh-bang (#!) which tells the system that this file is a set of commands to be fed to the command interpreter indicated.  \n",
    "\n",
    "**`#!/bin/sh`**  \n",
    "* Executes the script using the Bourne shell or a compatible shell, with path /bin/sh  \n",
    "\n",
    "Shell scripts and functions are both interpreted (they are NOT compiled).  "
   ]
  },
  {
   "cell_type": "markdown",
   "id": "6d7bd0cd-23d0-402c-b8d9-c757255c80e5",
   "metadata": {},
   "source": [
    "**Run a script in debug mode**  \n",
    "\n",
    "Add *-x* to top line of file after sh-bang:  \n",
    "**`#!/bin/sh -x`**  \n",
    "\n",
    "Alternatively run the following in terminal:  \n",
    "**`sh -x <file_path>`**  "
   ]
  },
  {
   "cell_type": "markdown",
   "id": "af02a3df-c0f4-4f7f-8d88-d35ef2f30630",
   "metadata": {},
   "source": [
    "---"
   ]
  },
  {
   "cell_type": "markdown",
   "id": "c471885f-acef-423b-bc00-ed1092025cb2",
   "metadata": {},
   "source": [
    "Add comments to script with **`#`**  "
   ]
  },
  {
   "cell_type": "markdown",
   "id": "ffdbaa42-d2fc-4615-963b-6d82ddde4885",
   "metadata": {},
   "source": [
    "#### Variables  \n",
    "\n",
    "Set a variable with **`VAR=value`**  \n",
    "Note temporary environment variables set via the terminal need to be exported for a child script to have access (see linux notes)  \n",
    "Variable names are typically **UPPERCASE**  "
   ]
  },
  {
   "cell_type": "markdown",
   "id": "e4b4e3ee-3f0d-4e03-811c-f4902c515752",
   "metadata": {},
   "source": [
    "#### Arrays  \n",
    "\n",
    "**`arrayVar[index]=value`**  \n",
    "* Set an array value by index  \n",
    "\n",
    "**`echo ${arrayVar[index]}`**  \n",
    "* Print an array value by index  \n",
    "\n",
    "**`echo ${arrayVar[*]}`**  \n",
    "OR  \n",
    "**`echo ${arrayVar[@]}`**  \n",
    "* Access **all** elements  "
   ]
  },
  {
   "cell_type": "markdown",
   "id": "08f9ce00-78af-459a-bf79-2eb477ad3ca5",
   "metadata": {},
   "source": [
    "---"
   ]
  },
  {
   "cell_type": "markdown",
   "id": "74ae3e44-ee6e-4a50-8b49-4ab32cccf0ff",
   "metadata": {},
   "source": [
    "**Wildcards**  \n",
    "\n",
    "|Wildcard|Description|Example|Ex description|\n",
    "|:---:|:---|:---:|:---|\n",
    "|?|Single character|ls badge?.txt|List any file with a name that starts with ‘badge’ and is followed by any single character before the filename extension|\n",
    "|\\*|Zero or many characters|ls source.\\*|Matches all files called “source,” regardless of the file extension|\n",
    "|[ ]|Character Set Wildcard|ls badge_[23][1-5].txt|Selects files with the numbers 21 to 25, and 31 to 35 in the filename|"
   ]
  },
  {
   "cell_type": "markdown",
   "id": "7abf5011-0fe3-4c94-8296-5ecf4331cd89",
   "metadata": {},
   "source": [
    "---"
   ]
  },
  {
   "cell_type": "markdown",
   "id": "03332784-a7e4-4520-bb74-69c6d2b6b20d",
   "metadata": {
    "tags": []
   },
   "source": [
    "#### <center>Commands</center>"
   ]
  },
  {
   "cell_type": "markdown",
   "id": "681566ff-f5df-4f38-93e7-fbdcfeae723d",
   "metadata": {},
   "source": [
    "|Command|Description|Options|\n",
    "|:---:|:---|:---|\n",
    "|echo *[options] \\<string\\>* &emsp;&emsp;&emsp;&emsp;&emsp;&emsp;&emsp;&emsp;|Returns input or variable value to terminal<br>use \\\\$ in front of a variable to output its value<br>Enclose strings in double quotes \" \"<br>Can add text to a file following \\<string\\> with  *>> \\<fileName\\>*|**-n** omit newline from the output<br>**-e** enable the function of backslash (/) character<br>**-E** disable the function of backslash (/) character<br>**–version** display the version information<br>**–help** display help messages related to the uses of this command|\n",
    "|read *[options] \\<variable_name\\>*|Takes the input from the keyboard and assigns it to variable_name|**-p** prompt, allows you to display a prompt rather than using additional echo commands<br>e.g. read -p \"prompt message\" *\\<varName\\>*|\n",
    "|\\$*\\<variable_name\\>*|Return variable_name value<br>Alternatively $\\<number\\> to return the parameter passed when the program was run, 1 is first argument, # is number of arguments passed||\n",
    "|readonly *\\<variable_name\\>*|Sets a variable to readonly<br>After a variable is marked read-only, its value cannot be changed||\n",
    "|\\$PATH|View current path<br>The path specifies the locations in which the shell should look for commands||\n",
    "|export PATH=\\$PATH:*\\<file_path\\>*|Adds *\\<file_path\\>* to PATH variable to be able to execute the script anywhere on your system by just typing in its name, without having to include the full path as you type it<br>Default is usually `$PATH=/bin:/usr/bin` ||"
   ]
  },
  {
   "cell_type": "markdown",
   "id": "2e3cb452-6c22-4747-abae-fe2a0cc33835",
   "metadata": {},
   "source": [
    "#### <center>Basic Operators</center>"
   ]
  },
  {
   "cell_type": "markdown",
   "id": "22e76a18-2635-429b-8513-b9625d506ed9",
   "metadata": {},
   "source": [
    "#### **Note**  \n",
    "Assign a variable with expression e.g;  \n",
    "**`a='expr $a + 1'`**\n",
    "* There must be spaces between operators and expressions. For example, 2+2 is not correct; it should be written as 2 + 2.  \n",
    "* Keyword **expr** is used to denote an expression  \n",
    "* The complete **expression** should be enclosed between &#96;   &#96;, called the **backtick**.  \n",
    "* **Conditional** expressions should be inside **square braces with spaces** around them, for example [  $a == $b  ] is correct whereas, [\\\\$a==\\\\$b] is incorrect  \n",
    "\n",
    "\n",
    "* Assume a holds 10, and b holds 20  \n",
    "\n",
    "|Operator|Description|Example|\n",
    "|:---:|:---|:---:|\n",
    "|+ (Addition)|Adds values on either side of the operator|`expr $a + $b` will give 30|\n",
    "|- (Subtraction)|Subtracts right hand operand from left hand operand|`expr $a - $b` will give -10|\n",
    "|\\* (Multiplication)|Multiplies values on either side of the operator|`expr $a \\* $b` will give 200|\n",
    "|/ (Division)|Divides left hand operand by right hand operand|`expr $b / $a` will give 2|\n",
    "|% (Modulus)|Divides left hand operand by right hand operand and returns remainder|`expr $b % $a` will give 0|\n",
    "|= (Assignment)|Assigns right operand in left operand|`a = $b` would assign value of b into a|\n",
    "|== (Equality)|Compares two numbers, if both are same then returns true|`[ $a == $b ]` would return false|\n",
    "|!= (Not Equality)|Compares two numbers, if both are different then returns true|[ $a != $b ] would return true|"
   ]
  },
  {
   "cell_type": "markdown",
   "id": "c2aa333d-800c-42e0-946f-436c73f94dc6",
   "metadata": {},
   "source": [
    "#### <center>Relational Operators</center>  \n",
    "\n",
    "|Operator|Description|Example|\n",
    "|:---:|:---|:---:|\n",
    "|-eq|Checks if the value of two operands are equal or not;<br>if yes, then the condition becomes true|[ \\\\$a -eq \\\\$b ] is not true|\n",
    "|-ne|Checks if the value of two operands are equal or not;<br>if values are not equal, then the condition becomes true|[ \\\\$a -ne \\\\$b ] is true|\n",
    "|-gt|Checks if the value of left operand is greater than the value of right operand;<br>if yes, then the condition becomes true|[ \\\\$a -gt \\\\$b ] is not true|\n",
    "|-lt|Checks if the value of left operand is less than the value of right operand;<br>if yes, then the condition becomes true|[ \\\\$a -lt \\\\$b ] is true|\n",
    "|-ge|Checks if the value of left operand is greater than or equal to the value of right operand;<br>if yes, then the condition becomes true|[ \\\\$a -ge \\\\$b ] is not true|\n",
    "|-le|Checks if the value of left operand is less than or equal to the value of right operand;<br>if yes, then the condition becomes true|[ \\\\$a -le \\\\$b ] is true|"
   ]
  },
  {
   "cell_type": "markdown",
   "id": "75a06532-9f5d-4324-ad00-cb485abf3bce",
   "metadata": {},
   "source": [
    "#### <center>Boolean Operators</center>  \n",
    "\n",
    "|Operator|Description|Example|\n",
    "|:---:|:---|:---:|\n",
    "|!|This is logical negation. This inverts a true condition into false and vice versa<br>Note the spaces either side|[ ! false ] is true|\n",
    "|-o|This is logical OR. If one of the operands is true, then the condition becomes true|[ \\\\$a -lt 20 -o \\\\$b -gt 100 ] is true|\n",
    "|-a|This is logical AND. If both the operands are true, then the condition becomes true otherwise false|[ \\\\$a -lt 20 -a \\\\$b -gt 100 ] is false|"
   ]
  },
  {
   "cell_type": "markdown",
   "id": "115bf84e-a7bf-427c-8baf-9304e4385872",
   "metadata": {},
   "source": [
    "#### <center>String Operators</center>  \n",
    "\n",
    "* Assume variable a holds \"abc\" and variable b holds \"efg\"  \n",
    "\n",
    "|Operator|Description|Example|\n",
    "|:---:|:---|:---:|\n",
    "|=|Checks if the value of two operands are equal or not;<br>if yes, then the condition becomes true|[ \\\\$a = \\\\$b ] is not true|\n",
    "|!=|Checks if the value of two operands are equal or not;<br>if values are not equal then the condition becomes true|[ \\\\$a != \\\\$b ] is true|\n",
    "|-z|Checks if the given string operand size is zero;<br>if it is zero length, then it returns true|[ -z \\\\$a ] is not true|\n",
    "|-n|Checks if the given string operand size is non-zero;<br>if it is nonzero length, then it returns true|[ -n \\\\$a ] is not false|\n",
    "|str|Checks if str is not the empty string;<br>if it is empty, then it returns false|[ \\\\$a ] is not false|"
   ]
  },
  {
   "cell_type": "markdown",
   "id": "1d388fab-8de7-4764-a041-c581483f805f",
   "metadata": {},
   "source": [
    "#### <center>File Test Operators</center>  \n",
    "\n",
    "* Assume a variable file holds an existing file name \"test\" the size of which is 100 bytes and has read, write and execute permission   \n",
    "\n",
    "|Operator|Description|Example|\n",
    "|:---:|:---|:---:|\n",
    "|-b file|Checks if file is a block special file;<br>if yes, then the condition becomes true|[ -b \\\\$file ] is false|\n",
    "|-c file|Checks if file is a character special file;<br>if yes, then the condition becomes true|[ -c \\\\$file ] is false|\n",
    "|-d file|Checks if file is a directory;<br>if yes, then the condition becomes true|[ -d \\\\$file ] is not true|\n",
    "|-f file|Checks if file is an ordinary file as opposed to a directory or special file;<br>if yes, then the condition becomes true|[ -f \\\\$file ] is true|\n",
    "|-g file|Checks if file has its set group ID (SGID) bit set;|if yes, then the condition becomes true|[ -g \\\\$file ] is false|\n",
    "|-k file|Checks if file has its sticky bit set;<br>if yes, then the condition becomes true|[ -k \\\\$file ] is false|\n",
    "|-p file|Checks if file is a named pipe;<br>if yes, then the condition becomes true|[ -p \\\\$file ] is false|\n",
    "|-t file|Checks if file descriptor is open and associated with a terminal;<br>if yes, then the condition becomes true|[ -t \\\\$file ] is false|\n",
    "|-u file|Checks if file has its Set User ID (SUID) bit set;<br>if yes, then the condition becomes true|[ -u \\\\$file ] is false|\n",
    "|-r file|Checks if file is readable;<br>if yes, then the condition becomes true|[ -r \\\\$file ] is true|\n",
    "|-w file|Checks if file is writable;<br>if yes, then the condition becomes true|[ -w \\\\$file ] is true|\n",
    "|-x file|Checks if file is executable;<br>if yes, then the condition becomes true|[ -x \\\\$file ] is true|\n",
    "|-s file|Checks if file has size greater than 0;<br>if yes, then condition becomes true|[ -s \\\\$file ] is true|\n",
    "|-e file|Checks if file exists;<br>is true even if file is a directory but exists|[ -e \\\\$file ] is true|"
   ]
  },
  {
   "cell_type": "markdown",
   "id": "c9104a86-1770-4718-877b-7a5821c62a19",
   "metadata": {},
   "source": [
    "---"
   ]
  },
  {
   "cell_type": "markdown",
   "id": "67182107-2fae-4034-b97c-7f2bf9fd4897",
   "metadata": {
    "tags": []
   },
   "source": [
    "#### Loops  \n",
    "**`break n`**  \n",
    "* Used to exit a loop(s)  \n",
    "* **`n`** is **optional** and specifies the number of loops to break out of  \n",
    "\n",
    "**`continue n`**  \n",
    "* Exits current iteration,  rather than the entire loop  \n",
    "* **`n`** is **optional** and specifies the number of loops to break out of  \n",
    "\n",
    "##### if loop  \n",
    "**`if [ $<varName> <condition> ]`**  \n",
    "&emsp;&emsp;**`then`**  \n",
    "&emsp;&emsp;**`statement...`**  \n",
    "&emsp;&emsp;**`elif [ $<varName> <condition> ]`**  &emsp;&emsp;-- optional  \n",
    "&emsp;&emsp;**`statement`**  \n",
    "&emsp;&emsp;**`else`**  &emsp;&emsp;-- optional  \n",
    "&emsp;&emsp;**`statement...`**  \n",
    "\n",
    "**`fi`**  \n",
    "* **`fi`** is **required** to tell the shell the loop has finished  "
   ]
  },
  {
   "cell_type": "markdown",
   "id": "1be42541-ab04-4256-88ea-8ff88430be4d",
   "metadata": {},
   "source": [
    "##### while loop  \n",
    "**`while [ $<varName> <condition> ]`**  \n",
    "**`do`**  \n",
    "&emsp;&emsp;**`statement`**  \n",
    "&emsp;&emsp;**`...`**  \n",
    "&emsp;&emsp;**`<statement to update varName>`**  \n",
    "**`done`**  \n",
    "* Runs **while `<condition>`** is **true**  "
   ]
  },
  {
   "cell_type": "markdown",
   "id": "73f210b8-2443-465e-837b-60a06e37ff90",
   "metadata": {},
   "source": [
    "##### until loop  \n",
    "**`until [ $<varName> <condition> ]`**  \n",
    "**`do`**  \n",
    "&emsp;&emsp;**`statement`**  \n",
    "&emsp;&emsp;**`...`**  \n",
    "&emsp;&emsp;**`<statement to update varName>`**  \n",
    "**`done`**  \n",
    "* Runs **until `<condition>`** is **true**  "
   ]
  },
  {
   "cell_type": "markdown",
   "id": "54526051-48ed-4be8-bbc4-2dfd48019d32",
   "metadata": {},
   "source": [
    "##### for loop  \n",
    "**`for <varName> in word1 word2 ... wordN`**  \n",
    "**`do`**  \n",
    "&emsp;&emsp;**`statement`**  \n",
    "**`done`**  \n",
    "* **`<varName>`** is similar to 'i' in java for loops, it can be referenced in the do-statement  \n",
    "* Each word is a sequence of characters or numbers separated by spaces (words)  \n",
    "* Each time the for loop executes, the value of the variable var is set to the next word in the list of words, word1 to wordN  "
   ]
  },
  {
   "cell_type": "markdown",
   "id": "f575f849-1f11-491d-a1cd-229236be760b",
   "metadata": {},
   "source": [
    "#### Case statement  \n",
    "\n",
    "**`case $<varName> in`**  \n",
    "&emsp;&emsp;**`pattern1)`**  \n",
    "&emsp;&emsp;&emsp;**`statement...`**  \n",
    "&emsp;&emsp;&emsp;**`...`**  \n",
    "&emsp;&emsp;&emsp;**`statement...`**  \n",
    "&emsp;&emsp;&emsp;**`;;`**  \n",
    "&emsp;&emsp;**`pattern2)`**  \n",
    "&emsp;&emsp;&emsp;**`statement...`**  \n",
    "&emsp;&emsp;&emsp;**`...`**  \n",
    "&emsp;&emsp;&emsp;**`statement...`**  \n",
    "&emsp;&emsp;&emsp;**`;;`**  \n",
    "&emsp;&emsp;**`*)`**  &emsp;&emsp;-- optional\n",
    "&emsp;&emsp;&emsp;**`statement...`**  \n",
    "&emsp;&emsp;&emsp;**`...`**  \n",
    "&emsp;&emsp;&emsp;**`statement...`**  \n",
    "&emsp;&emsp;&emsp;**`;;`**  \n",
    "* **More efficient** than repeated if...elif statements  \n",
    "* **`*)`** is used to catch anything which doesn't match earlier pattens  "
   ]
  },
  {
   "cell_type": "markdown",
   "id": "f84e91e8-a5d3-43a1-876b-674e93568f1e",
   "metadata": {},
   "source": [
    "---"
   ]
  },
  {
   "cell_type": "markdown",
   "id": "9094d94b-8590-47da-9c5f-3c76471774d6",
   "metadata": {},
   "source": [
    "**Functions**  \n",
    "\n",
    "**`#!/bin/bash`**  \n",
    "**`# Define your function here`**  \n",
    "**`Hello () {`**  \n",
    "&emsp;&emsp;**`echo \"Hello World $1 $2...\"`** &emsp;&emsp;--\\\\$1 / \\\\$2 are optional  \n",
    "&emsp;&emsp;**`return \\<some value\\>`** &emsp;&emsp; --optional, terminantes function  \n",
    "**`}`**  \n",
    "**`# Invoke your function`**  \n",
    "**`Hello parameter1 parameter2`**  \n",
    "**`RET=$?`** &emsp;&emsp;--captures return value of last command in variable RET\n",
    "* **`$1`** and **`$2`** are optional parameters which can be passed when calling the function  \n",
    "* Executing an **exit** command from inside a function not only terminates the function, but also of the **shell program that called the function**  \n",
    "* Use **return \\<code\\>** to terminante a function, however this is optional, and function will terminante on completion  \n",
    "* Functions can call other functions as well as themselves in the same way by specifing the name of the function  "
   ]
  },
  {
   "cell_type": "markdown",
   "id": "46a53b9c-718c-4ebe-8029-9b7f7e8d6bde",
   "metadata": {},
   "source": []
  },
  {
   "cell_type": "markdown",
   "id": "bd80ec42-ddf9-4d77-aa4a-0ec5cd0608c6",
   "metadata": {},
   "source": []
  },
  {
   "cell_type": "markdown",
   "id": "b6a4b390-51c2-47a8-9ce7-08e297a71579",
   "metadata": {},
   "source": []
  },
  {
   "cell_type": "markdown",
   "id": "70fd4c83-0c3e-4fde-a068-592c8959afa3",
   "metadata": {},
   "source": []
  },
  {
   "cell_type": "markdown",
   "id": "ab7af502-0f1c-48b2-b424-cf85c246d0d5",
   "metadata": {},
   "source": []
  }
 ],
 "metadata": {
  "kernelspec": {
   "display_name": "Python 3 (ipykernel)",
   "language": "python",
   "name": "python3"
  },
  "language_info": {
   "codemirror_mode": {
    "name": "ipython",
    "version": 3
   },
   "file_extension": ".py",
   "mimetype": "text/x-python",
   "name": "python",
   "nbconvert_exporter": "python",
   "pygments_lexer": "ipython3",
   "version": "3.9.7"
  }
 },
 "nbformat": 4,
 "nbformat_minor": 5
}
